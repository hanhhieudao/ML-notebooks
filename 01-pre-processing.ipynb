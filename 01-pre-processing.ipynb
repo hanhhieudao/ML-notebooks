{
 "cells": [
  {
   "cell_type": "markdown",
   "metadata": {},
   "source": [
    "# Spacy library"
   ]
  },
  {
   "cell_type": "markdown",
   "metadata": {},
   "source": [
    "The spaCy library is a powerful and efficient library for natural language processing (NLP) in Python. It provides a range of tools and features for processing and analyzing textual data. "
   ]
  },
  {
   "cell_type": "code",
   "execution_count": 1,
   "metadata": {},
   "outputs": [
    {
     "name": "stdout",
     "output_type": "stream",
     "text": [
      "3.7.5\n"
     ]
    }
   ],
   "source": [
    "import spacy\n",
    "print(spacy.__version__)"
   ]
  },
  {
   "cell_type": "markdown",
   "metadata": {},
   "source": [
    "The en_core_web_sm is a statistical model. "
   ]
  },
  {
   "cell_type": "markdown",
   "metadata": {},
   "source": [
    "We loaded `spaCy` model `en_core_web_sm` = `nlp` object\n",
    "\n",
    "`nlp object` converts text into a `Doc` object (container) to store processed text. "
   ]
  },
  {
   "cell_type": "code",
   "execution_count": 2,
   "metadata": {},
   "outputs": [],
   "source": [
    "nlp = spacy.load(\"en_core_web_sm\")"
   ]
  },
  {
   "cell_type": "code",
   "execution_count": 3,
   "metadata": {},
   "outputs": [
    {
     "data": {
      "text/plain": [
       "spacy.lang.en.English"
      ]
     },
     "execution_count": 3,
     "metadata": {},
     "output_type": "execute_result"
    }
   ],
   "source": [
    "# check the type of nlp object\n",
    "type(nlp)"
   ]
  },
  {
   "cell_type": "markdown",
   "metadata": {},
   "source": [
    "## Tokenization\n",
    "A `Token` is defined as the smallest meaningful part of the text. \n",
    "\n",
    "Tokenization: the process of dividing a text into a list of meaningful tokens. "
   ]
  },
  {
   "cell_type": "markdown",
   "metadata": {},
   "source": [
    "### Tokenization with spaCy"
   ]
  },
  {
   "cell_type": "code",
   "execution_count": 4,
   "metadata": {},
   "outputs": [],
   "source": [
    "# Sample sentence.\n",
    "text = \"Jack didn't want to pay Annie 100$ for this book.\"\n",
    "doc = nlp(text)"
   ]
  },
  {
   "cell_type": "code",
   "execution_count": 5,
   "metadata": {},
   "outputs": [
    {
     "name": "stdout",
     "output_type": "stream",
     "text": [
      "['Jack', 'did', \"n't\", 'want', 'to', 'pay', 'Annie', '100', '$', 'for', 'this', 'book', '.']\n"
     ]
    }
   ],
   "source": [
    "print([token.text for token in doc])"
   ]
  },
  {
   "cell_type": "markdown",
   "metadata": {},
   "source": [
    "Note how\n",
    "- \"didn't\" is separated into \"did\"  and \"n't\".\n",
    "- the currency symbol and amount are separated.\n",
    "- the period at the end of the sentence is its own token."
   ]
  },
  {
   "cell_type": "markdown",
   "metadata": {},
   "source": [
    "The `doc` object can be indexed and sliced like a regular list. The `dic` object contains `Token` and `Span` objects, which offer different views into the text."
   ]
  },
  {
   "cell_type": "code",
   "execution_count": 6,
   "metadata": {},
   "outputs": [
    {
     "name": "stdout",
     "output_type": "stream",
     "text": [
      "Jack\n"
     ]
    }
   ],
   "source": [
    "# We can view an individual token by indexing into the Doc object.\n",
    "print(doc[0])"
   ]
  },
  {
   "cell_type": "code",
   "execution_count": 7,
   "metadata": {},
   "outputs": [
    {
     "name": "stdout",
     "output_type": "stream",
     "text": [
      "<class 'spacy.tokens.token.Token'>\n"
     ]
    }
   ],
   "source": [
    "# A Doc object is a container of other objects, namely Token and Span objects.\n",
    "print(type(doc[0]))"
   ]
  },
  {
   "cell_type": "code",
   "execution_count": 8,
   "metadata": {},
   "outputs": [
    {
     "name": "stdout",
     "output_type": "stream",
     "text": [
      "Jack didn't\n",
      "<class 'spacy.tokens.span.Span'>\n"
     ]
    }
   ],
   "source": [
    "# Slicing a Doc object returns a Span object.\n",
    "print(doc[0:3])\n",
    "print(type(doc[0:3]))"
   ]
  },
  {
   "cell_type": "code",
   "execution_count": 9,
   "metadata": {},
   "outputs": [
    {
     "name": "stdout",
     "output_type": "stream",
     "text": [
      "[('Jack', 0), ('did', 1), (\"n't\", 2), ('want', 3), ('to', 4), ('pay', 5), ('Annie', 6), ('100', 7), ('$', 8), ('for', 9), ('this', 10), ('book', 11), ('.', 12)]\n"
     ]
    }
   ],
   "source": [
    "# Access a token's index in a sentence through i attribute.\n",
    "print([(t.text, t.i) for t in doc])"
   ]
  },
  {
   "cell_type": "markdown",
   "metadata": {},
   "source": [
    "Spacy's tokenization is _non-destructive_, which means the original input can be reconstructed from the tokens."
   ]
  },
  {
   "cell_type": "code",
   "execution_count": 10,
   "metadata": {},
   "outputs": [
    {
     "name": "stdout",
     "output_type": "stream",
     "text": [
      "Jack didn't want to pay Annie 100$ for this book.\n"
     ]
    }
   ],
   "source": [
    "# You can view the original input like so:\n",
    "print(doc.text)"
   ]
  },
  {
   "cell_type": "markdown",
   "metadata": {},
   "source": [
    "### Exercise"
   ]
  },
  {
   "cell_type": "markdown",
   "metadata": {},
   "source": [
    "EXERCISE 1:\n",
    "1) Tokenize the following text\n",
    "2) Iterate through the tokens to check whether there's a currency symbol.\n",
    "3) If there is, and the currency label is followed by a number, print both the symbol and the number.\n",
    "\n",
    "Look through https://spacy.io/api/token#attributes on how to check whether a token is a currency symbol or a number.\n",
    "\n",
    "Expected output: \"$20\"."
   ]
  },
  {
   "cell_type": "code",
   "execution_count": 11,
   "metadata": {},
   "outputs": [],
   "source": [
    "s = \"He didn't want to pay $20 for this book.\"\n",
    "doc1 = nlp(s)"
   ]
  },
  {
   "cell_type": "code",
   "execution_count": 12,
   "metadata": {},
   "outputs": [
    {
     "name": "stdout",
     "output_type": "stream",
     "text": [
      "$20\n"
     ]
    }
   ],
   "source": [
    "for index, token in enumerate(doc1): \n",
    "    if token.is_currency: \n",
    "        # Check if the next token exists and is a number\n",
    "        if index + 1 < len(doc1) and doc[index + 1].like_num:\n",
    "            # Print the currency symbol and the number\n",
    "            print(token.text + doc1[index + 1].text)"
   ]
  },
  {
   "cell_type": "markdown",
   "metadata": {},
   "source": [
    "EXERCISE 2: Look up how to tokenize the sentence below using NLTK. The imports are done for you. Does the NLTK tokenizer handle \"N.Y.C.\" correctly?"
   ]
  },
  {
   "cell_type": "code",
   "execution_count": 13,
   "metadata": {},
   "outputs": [
    {
     "name": "stdout",
     "output_type": "stream",
     "text": [
      "['Let', \"'s\", 'go', 'to', 'N.Y.C.', 'for', 'the', 'weekend', '.']\n"
     ]
    }
   ],
   "source": [
    "from nltk.tokenize import TreebankWordTokenizer\n",
    "\n",
    "s = \"Let's go to N.Y.C. for the weekend.\"\n",
    "\n",
    "tokenizer = TreebankWordTokenizer()\n",
    "\n",
    "tokens = tokenizer.tokenize(s)\n",
    "\n",
    "print(tokens)"
   ]
  },
  {
   "cell_type": "markdown",
   "metadata": {},
   "source": [
    "Remark: The TreebankWordTokenizer in NLTK correctly handles \"N.Y.C.\" as a single token, preserving the period within it, which is typical in tokenizing abbreviations or proper nouns like \"N.Y.C.\"."
   ]
  },
  {
   "cell_type": "markdown",
   "metadata": {},
   "source": [
    "## spaCy basis "
   ]
  },
  {
   "cell_type": "markdown",
   "metadata": {},
   "source": [
    "### Case Folding\n",
    "Lower ot upper-casing all tokens. "
   ]
  },
  {
   "cell_type": "markdown",
   "metadata": {},
   "source": [
    "Pros: Break down text into smaller vocab which is efficient in space and computation. \n",
    "\n",
    "Cons: Information loss. "
   ]
  },
  {
   "cell_type": "code",
   "execution_count": 14,
   "metadata": {},
   "outputs": [
    {
     "name": "stdout",
     "output_type": "stream",
     "text": [
      "['jack', 'did', \"n't\", 'want', 'to', 'pay', 'annie', '100', '$', 'for', 'this', 'book', '.']\n"
     ]
    }
   ],
   "source": [
    "# View your document with case-folding using the lower_ attribute.\n",
    "print([t.lower_ for t in doc])"
   ]
  },
  {
   "cell_type": "code",
   "execution_count": 15,
   "metadata": {},
   "outputs": [
    {
     "name": "stdout",
     "output_type": "stream",
     "text": [
      "[Jack, 'did', \"n't\", 'want', 'to', 'pay', 'annie', '100', '$', 'for', 'this', 'book', '.']\n"
     ]
    }
   ],
   "source": [
    "# You can also apply conditions when generating these views. \n",
    "# For example, we can skip case-folding if a token is the start of a sentence.\n",
    "\n",
    "print([t.lower_ if not t.is_sent_start else t for t in doc])"
   ]
  },
  {
   "cell_type": "markdown",
   "metadata": {},
   "source": [
    "### Stop Word Removal \n",
    "Removing words which occur frequently but carry little information. (the, a, of,...)"
   ]
  },
  {
   "cell_type": "code",
   "execution_count": 16,
   "metadata": {},
   "outputs": [
    {
     "name": "stdout",
     "output_type": "stream",
     "text": [
      "{'just', 'thence', 're', 'here', 'move', 'two', '‘d', 'and', 'make', 'thru', 'one', 'alone', 'other', 'on', 'rather', 'formerly', 'wherein', 'its', '’ve', 'how', 'with', \"'re\", 'once', 'back', 'regarding', 'our', 'of', 'whereupon', 'ca', 'i', 'twelve', 'almost', 'nobody', 'was', 'can', 'in', 'whither', 'their', 'various', 'forty', 'mine', 'yourself', \"'m\", 'my', 'that', 'wherever', 'there', 'put', 'done', 'itself', 'or', 'anywhere', 'front', 'will', 'me', 'a', 'afterwards', 'through', 'another', 'hereafter', 'please', 'seeming', 'own', \"'ve\", 'him', 'been', 'often', 'n’t', 'twenty', 'themselves', 'onto', 'somehow', 'using', 'less', 'therein', 'third', 'becoming', 'who', 'moreover', 'any', 'well', 'amount', 'always', 'get', 'so', 'really', 'too', 'around', 'although', 'again', 'neither', 'anyway', 'yet', 'last', 'serious', 'throughout', 'when', 'this', \"n't\", 'whence', 'beyond', 'fifteen', 'least', 'full', 'anyhow', 'why', '’re', 'never', 'call', 'across', 'above', 'per', 'others', 'out', 'further', 'after', 'seems', 'hundred', 'whose', 'few', 'nevertheless', 'several', 'sometime', 'they', 'to', 'down', 'eight', 'somewhere', 'ten', 'hence', 'fifty', 'something', 'show', 'may', 'sometimes', 'thereupon', 'over', 'not', 'whom', 'take', 'from', 'us', 'until', 'very', 'every', 'already', 'myself', 'upon', 'where', 'first', 'by', 'the', 'whether', 'were', 'sixty', 'whoever', 'hers', 'at', 'thereafter', 'must', 'still', 'therefore', 'became', 'none', 'whenever', '‘s', 'would', 'before', 'due', 'between', 'perhaps', 'used', 'though', 'nine', 'thus', 'together', 'might', 'towards', 'should', 'nothing', 'up', 'we', 'however', 'while', 'it', 'have', 'his', 'besides', 'even', 'as', 'seemed', 'himself', 'some', 'ours', '‘ve', 'toward', '’m', 'seem', 'become', 'hereby', 'into', 'be', 'unless', 'but', 'elsewhere', 'many', 'herself', 'say', 'than', 'see', 'has', 'top', 'if', 'enough', 'empty', 'cannot', \"'d\", 'meanwhile', 'everywhere', 'doing', 'everything', 'keep', '’d', 'becomes', 'each', 'five', 'did', 'yourselves', 'part', 'because', 'are', 'also', 'is', 'either', 'whereafter', 'only', 'mostly', 'namely', 'same', 'your', 'she', 'he', 'am', \"'ll\", 'such', 'had', 'below', 'within', 'no', 'latterly', 'what', 'herein', 'name', 'against', 'amongst', 'then', 'whereby', 'former', 'anyone', 'ourselves', '’s', 'which', 'both', 'four', 'else', 'noone', 'most', 'whatever', 'made', 'anything', 'do', 'whereas', 'these', 'except', 'thereby', 'indeed', 'ever', 'six', 'everyone', 'under', 'nowhere', \"'s\", '‘m', 'them', 'those', 'an', 'during', 'much', 'side', 'hereupon', 'whole', 'for', 'off', '‘re', 'three', 'someone', 'n‘t', 'without', 'yours', 'her', 'via', 'beside', 'could', 'behind', 'does', 'beforehand', 'being', 'eleven', 'now', 'among', 'you', 'all', 'since', '‘ll', 'next', 'go', 'latter', 'quite', '’ll', 'bottom', 'more', 'about', 'nor', 'give', 'along', 'otherwise'}\n",
      "326\n"
     ]
    }
   ],
   "source": [
    "# spaCy's default stop word list.\n",
    "print(nlp.Defaults.stop_words)\n",
    "print(len(nlp.Defaults.stop_words))"
   ]
  },
  {
   "cell_type": "code",
   "execution_count": 17,
   "metadata": {},
   "outputs": [
    {
     "name": "stdout",
     "output_type": "stream",
     "text": [
      "[Jack, want, pay, Annie, 100, $, book, .]\n"
     ]
    }
   ],
   "source": [
    "# tokens without stop words\n",
    "print([t for t in doc if not t.is_stop])"
   ]
  },
  {
   "cell_type": "markdown",
   "metadata": {},
   "source": [
    "### Lemmatization \n",
    "Reduce a word down to its lemma, or dictionary form. (did, does, do => do,...)"
   ]
  },
  {
   "cell_type": "code",
   "execution_count": 18,
   "metadata": {},
   "outputs": [
    {
     "name": "stdout",
     "output_type": "stream",
     "text": [
      "[('Jack', 'Jack'), ('did', 'do'), (\"n't\", 'not'), ('want', 'want'), ('to', 'to'), ('pay', 'pay'), ('Annie', 'Annie'), ('100', '100'), ('$', '$'), ('for', 'for'), ('this', 'this'), ('book', 'book'), ('.', '.')]\n"
     ]
    }
   ],
   "source": [
    "print([(t.text, t.lemma_) for t in doc])"
   ]
  },
  {
   "cell_type": "markdown",
   "metadata": {},
   "source": [
    "### Stemming \n",
    "Removing word suffixes (and sometimes prefixes) eg. ing, s, y, ed,..."
   ]
  },
  {
   "cell_type": "markdown",
   "metadata": {},
   "source": [
    "Pros: reduce vocab size and generalize the model to behave the same for words with the same stem. \n",
    "\n",
    "Cons: A stemmer can overstem ('university' and 'universe' both stem to univers) and understem ('alumnus' and 'alumni' stem to 'alumnu' and 'amuni) which lead to poor results. "
   ]
  },
  {
   "cell_type": "markdown",
   "metadata": {},
   "source": [
    "NLTK stands for Natural Language Toolkit."
   ]
  },
  {
   "cell_type": "markdown",
   "metadata": {},
   "source": [
    "Components of NLTK:\n",
    "- **Corpora**: Collections of texts for training and testing NLP models (e.g., movie reviews, newspapers).\n",
    "- **Modules** and Libraries: Tools for processing natural language data, such as tokenizers, stemmers, and parsers.\n",
    "- **Tools** and Algorithms: Implementations of various NLP algorithms and techniques."
   ]
  },
  {
   "cell_type": "code",
   "execution_count": 19,
   "metadata": {},
   "outputs": [
    {
     "name": "stdout",
     "output_type": "stream",
     "text": [
      "Original sentence tokens: ['He', 'told', 'Dr.', 'Lovato', 'that', 'he', 'was', 'done', 'with', 'the', 'tests', 'and', 'would', 'post', 'the', 'results', 'shortly', '.']\n",
      "Stemmed sentence tokens: ['he', 'told', 'dr.', 'lovato', 'that', 'he', 'was', 'done', 'with', 'the', 'test', 'and', 'would', 'post', 'the', 'result', 'short', '.']\n"
     ]
    }
   ],
   "source": [
    "from nltk.stem.snowball import SnowballStemmer\n",
    "from nltk.tokenize import word_tokenize\n",
    "\n",
    "# Sentence to tokenize and stem\n",
    "s = 'He told Dr. Lovato that he was done with the tests and would post the results shortly.'\n",
    "\n",
    "# Initialize the SnowballStemmer for English\n",
    "stemmer = SnowballStemmer(language='english')\n",
    "\n",
    "# Tokenize the sentence\n",
    "tokens1 = word_tokenize(s)\n",
    "\n",
    "# Stem each token and collect the stemmed tokens\n",
    "stemmed_tokens = [stemmer.stem(token) for token in tokens1]\n",
    "\n",
    "# Print the stemmed tokens\n",
    "print(\"Original sentence tokens:\", tokens1)\n",
    "print(\"Stemmed sentence tokens:\", stemmed_tokens)"
   ]
  }
 ],
 "metadata": {
  "kernelspec": {
   "display_name": "base",
   "language": "python",
   "name": "python3"
  },
  "language_info": {
   "codemirror_mode": {
    "name": "ipython",
    "version": 3
   },
   "file_extension": ".py",
   "mimetype": "text/x-python",
   "name": "python",
   "nbconvert_exporter": "python",
   "pygments_lexer": "ipython3",
   "version": "3.11.7"
  }
 },
 "nbformat": 4,
 "nbformat_minor": 2
}
